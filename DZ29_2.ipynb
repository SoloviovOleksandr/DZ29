{
 "cells": [
  {
   "cell_type": "code",
   "execution_count": null,
   "id": "8dbc30c9",
   "metadata": {},
   "outputs": [],
   "source": []
  },
  {
   "cell_type": "code",
   "execution_count": null,
   "id": "d3f2f5f1",
   "metadata": {},
   "outputs": [],
   "source": [
    "Given: P(X>=3) = 0.4\n",
    "    f(x) = {1\\b-a\n",
    "       b-3/b-a = 0.4 при a+b\\2 = 2    \n",
    "            0.6b+0.4a = 3 при b = 4-a\n",
    "            b=7 при a = -3\n",
    "            f(x) = 1/10, x Є |-3;7|\n",
    "            "
   ]
  }
 ],
 "metadata": {
  "kernelspec": {
   "display_name": "Python 3 (ipykernel)",
   "language": "python",
   "name": "python3"
  },
  "language_info": {
   "codemirror_mode": {
    "name": "ipython",
    "version": 3
   },
   "file_extension": ".py",
   "mimetype": "text/x-python",
   "name": "python",
   "nbconvert_exporter": "python",
   "pygments_lexer": "ipython3",
   "version": "3.9.13"
  }
 },
 "nbformat": 4,
 "nbformat_minor": 5
}
