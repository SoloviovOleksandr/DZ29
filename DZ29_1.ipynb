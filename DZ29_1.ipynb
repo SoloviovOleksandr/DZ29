{
 "cells": [
  {
   "cell_type": "code",
   "execution_count": 1,
   "id": "d4eeb8a4",
   "metadata": {},
   "outputs": [
    {
     "name": "stdout",
     "output_type": "stream",
     "text": [
      "4.411\n"
     ]
    }
   ],
   "source": [
    "from task_1 import Hypothesis, Draw\n",
    "import pandas as pd\n",
    "import numpy as np"
   ]
  },
  {
   "cell_type": "code",
   "execution_count": 2,
   "id": "4a4b608b",
   "metadata": {},
   "outputs": [
    {
     "name": "stdout",
     "output_type": "stream",
     "text": [
      "          x_i  n_i\n",
      "1     [0, 24]    1\n",
      "2    [24, 48]    2\n",
      "3    [48, 72]    4\n",
      "4    [72, 96]    6\n",
      "5   [96, 120]   12\n",
      "6  [120, 144]   16\n",
      "7  [144, 168]    6\n",
      "8  [162, 192]    2\n",
      "9  [192, 216]    1\n"
     ]
    }
   ],
   "source": [
    "data = {\n",
    "    'x_i': [[0, 24], [24, 48], [48, 72], [72, 96], [96, 120], [120, 144], [144, 168], [162, 192], [192, 216]],\n",
    "    'n_i' : [1, 2, 4, 6, 12, 16, 6, 2, 1]}\n",
    "\n",
    "table = pd.DataFrame(data, index=range(1, 10))\n",
    "print(table)"
   ]
  },
  {
   "cell_type": "code",
   "execution_count": 3,
   "id": "2457a957",
   "metadata": {},
   "outputs": [
    {
     "name": "stdout",
     "output_type": "stream",
     "text": [
      "                              0\n",
      "mean                 114.600000\n",
      "dispersion          1437.120000\n",
      "standard deviation    37.909366\n"
     ]
    }
   ],
   "source": [
    "array = [[0, 24], [24, 48], [48, 72], [72, 96], [96, 120], [120, 144], [144, 168], [162, 192], [192, 216]]\n",
    "n_i = [1, 2, 4, 6, 12, 16, 6, 2, 1]\n",
    "obj = Hypothesis(array, n_i)\n",
    "table = Draw(obj)\n",
    "\n",
    "print(table.table_av())"
   ]
  },
  {
   "cell_type": "code",
   "execution_count": 4,
   "id": "6b742adc",
   "metadata": {},
   "outputs": [
    {
     "name": "stdout",
     "output_type": "stream",
     "text": [
      "        array  n_i    x_i     Pi  (ni - ni`)^2 / ni`\n",
      "1     [0, 24]    1   12.0  0.009               0.672\n",
      "2    [24, 48]    2   36.0  0.032               0.100\n",
      "3    [48, 72]    4   60.0  0.091               0.066\n",
      "4    [72, 96]    6   84.0  0.181               1.028\n",
      "5   [96, 120]   12  108.0  0.242               0.001\n",
      "6  [120, 144]   16  132.0  0.224               2.057\n",
      "7  [144, 168]    6  156.0  0.140               0.143\n",
      "8  [162, 192]    2  177.0  0.060               0.333\n",
      "9  [192, 216]    1  204.0  0.018               0.011\n"
     ]
    }
   ],
   "source": [
    "print(table.table_for_hyp())"
   ]
  },
  {
   "cell_type": "code",
   "execution_count": 5,
   "id": "a68976af",
   "metadata": {},
   "outputs": [
    {
     "name": "stdout",
     "output_type": "stream",
     "text": [
      "4.411\n"
     ]
    }
   ],
   "source": [
    "print(obj.k_empirical())"
   ]
  },
  {
   "cell_type": "code",
   "execution_count": null,
   "id": "704c7c19",
   "metadata": {},
   "outputs": [],
   "source": []
  }
 ],
 "metadata": {
  "kernelspec": {
   "display_name": "Python 3 (ipykernel)",
   "language": "python",
   "name": "python3"
  },
  "language_info": {
   "codemirror_mode": {
    "name": "ipython",
    "version": 3
   },
   "file_extension": ".py",
   "mimetype": "text/x-python",
   "name": "python",
   "nbconvert_exporter": "python",
   "pygments_lexer": "ipython3",
   "version": "3.9.13"
  }
 },
 "nbformat": 4,
 "nbformat_minor": 5
}
